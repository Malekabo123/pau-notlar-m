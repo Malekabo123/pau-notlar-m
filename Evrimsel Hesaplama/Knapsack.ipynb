{
 "cells": [
  {
   "cell_type": "code",
   "execution_count": 30,
   "id": "d5dfa788-96a6-45d8-bc68-ce39f0cc28f5",
   "metadata": {},
   "outputs": [],
   "source": [
    "from deap import base, tools, creator, algorithms\n",
    "import random\n",
    "import numpy as np"
   ]
  },
  {
   "cell_type": "code",
   "execution_count": 14,
   "id": "86275829-00e7-4dd9-86e4-d0ddc49cd121",
   "metadata": {},
   "outputs": [
    {
     "name": "stdout",
     "output_type": "stream",
     "text": [
      "[23, 31, 29, 44, 53, 38, 63, 85, 89, 82] [92, 57, 49, 68, 60, 43, 67, 84, 87, 72] 165\n"
     ]
    }
   ],
   "source": [
    "# Dosyaların okunması\n",
    "prefix = \"p01_\"\n",
    "with open(f\"files/{prefix}w.txt\") as f:\n",
    "    weights = list(map(int, f.readlines()))\n",
    "with open(f\"files/{prefix}p.txt\") as f:\n",
    "    prices = list(map(int, f.readlines()))\n",
    "with open(f\"files/{prefix}c.txt\") as f:\n",
    "    capacity = int(f.read())\n",
    "print(weights, prices, capacity)"
   ]
  },
  {
   "cell_type": "code",
   "execution_count": 2,
   "id": "d9c110be-0400-45d5-897e-970b07c19cb4",
   "metadata": {},
   "outputs": [],
   "source": [
    "creator.create(\"Fitness\", base.Fitness, weights=(1.0,))\n",
    "creator.create(\"Individual\", list, fitness=creator.Fitness)"
   ]
  },
  {
   "cell_type": "code",
   "execution_count": 15,
   "id": "5213c7d5-a42e-4654-b842-473d64f5e4e1",
   "metadata": {},
   "outputs": [],
   "source": [
    "toolbox = base.Toolbox()\n",
    "toolbox.register(\"attr_rand\", random.randint, 0, 1)\n",
    "toolbox.register(\"individual\", tools.initRepeat, creator.Individual, toolbox.attr_rand, len(weights))\n",
    "toolbox.register(\"population\", tools.initRepeat, list, toolbox.individual)"
   ]
  },
  {
   "cell_type": "code",
   "execution_count": 16,
   "id": "d704168b-372d-4074-a8d7-e5b6a7c8c2f3",
   "metadata": {},
   "outputs": [
    {
     "data": {
      "text/plain": [
       "0"
      ]
     },
     "execution_count": 16,
     "metadata": {},
     "output_type": "execute_result"
    }
   ],
   "source": [
    "toolbox.attr_rand()"
   ]
  },
  {
   "cell_type": "code",
   "execution_count": 39,
   "id": "33209706-2c57-4b7c-b1ec-657a89ad0a4b",
   "metadata": {},
   "outputs": [
    {
     "data": {
      "text/plain": [
       "[0, 0, 1, 0, 1, 1, 0, 0, 0, 1]"
      ]
     },
     "execution_count": 39,
     "metadata": {},
     "output_type": "execute_result"
    }
   ],
   "source": [
    "toolbox.individual()"
   ]
  },
  {
   "cell_type": "code",
   "execution_count": 21,
   "id": "691a271d-20bc-492f-992e-3987f0f0a957",
   "metadata": {},
   "outputs": [
    {
     "data": {
      "text/plain": [
       "[[1, 0, 1, 1, 0, 1, 0, 1, 1, 1],\n",
       " [0, 0, 1, 0, 1, 1, 1, 0, 0, 1],\n",
       " [1, 1, 0, 1, 1, 1, 0, 0, 0, 0],\n",
       " [0, 0, 1, 0, 0, 0, 1, 1, 1, 0],\n",
       " [0, 1, 1, 1, 0, 0, 1, 1, 1, 1],\n",
       " [0, 0, 0, 1, 1, 0, 0, 1, 1, 0],\n",
       " [0, 1, 0, 0, 1, 0, 0, 0, 1, 1],\n",
       " [1, 0, 0, 1, 1, 1, 1, 1, 1, 0],\n",
       " [1, 1, 0, 0, 1, 1, 0, 1, 0, 1],\n",
       " [1, 1, 1, 1, 0, 1, 0, 1, 0, 1]]"
      ]
     },
     "execution_count": 21,
     "metadata": {},
     "output_type": "execute_result"
    }
   ],
   "source": [
    "toolbox.population(n=10)"
   ]
  },
  {
   "cell_type": "code",
   "execution_count": 22,
   "id": "3f98b0f4-53ab-454c-ac8b-856544da3599",
   "metadata": {},
   "outputs": [],
   "source": [
    "def evaluate(ind):\n",
    "    total_weight = 0\n",
    "    total_price = 0\n",
    "    for weight,price,bit in zip(weights, prices, ind):\n",
    "        total_weight += weight * bit\n",
    "        total_price += price * bit\n",
    "    if total_weight <= capacity:\n",
    "        return total_price,\n",
    "    else:\n",
    "        return 0,\n",
    "\n",
    "toolbox.register(\"evaluate\", evaluate)"
   ]
  },
  {
   "cell_type": "code",
   "execution_count": 26,
   "id": "dce7f385-e4fd-449a-be1e-fd1bdc273f67",
   "metadata": {},
   "outputs": [
    {
     "name": "stdout",
     "output_type": "stream",
     "text": [
      "[1, 0, 0, 1, 0, 1, 0, 0, 0, 0]\n",
      "(203,)\n"
     ]
    }
   ],
   "source": [
    "ind = toolbox.individual()\n",
    "print(ind)\n",
    "print(toolbox.evaluate(ind))"
   ]
  },
  {
   "cell_type": "code",
   "execution_count": 33,
   "id": "e49f1afe-b72f-4ad5-bfa2-945d41805ae9",
   "metadata": {},
   "outputs": [],
   "source": [
    "toolbox.register(\"mutate\", tools.mutFlipBit, indpb=0.05)\n",
    "toolbox.register(\"mate\", tools.cxTwoPoint)\n",
    "toolbox.register(\"select\", tools.selTournament, tournsize=5)"
   ]
  },
  {
   "cell_type": "code",
   "execution_count": 29,
   "id": "bbf371b1-83d6-4b3a-a0a0-a9f5ca084058",
   "metadata": {},
   "outputs": [],
   "source": [
    "stats = tools.Statistics(lambda ind: ind.fitness.values)\n",
    "stats.register(\"max\", np.max)\n",
    "stats.register(\"min\", np.min)\n",
    "stats.register(\"avg\", np.mean)\n",
    "stats.register(\"std\", np.std)"
   ]
  },
  {
   "cell_type": "code",
   "execution_count": 40,
   "id": "fc429dff-59ef-4349-87a1-07cc618bf0b8",
   "metadata": {},
   "outputs": [
    {
     "name": "stdout",
     "output_type": "stream",
     "text": [
      "gen\tnevals\tmax\tmin\tavg  \tstd    \n",
      "0  \t50    \t244\t0  \t15.86\t54.8576\n",
      "1  \t28    \t244\t0  \t63.46\t89.3051\n",
      "2  \t32    \t244\t0  \t134.12\t89.4686\n",
      "3  \t21    \t244\t0  \t182.48\t79.3582\n",
      "4  \t29    \t244\t0  \t232.4 \t48.0379\n",
      "5  \t24    \t244\t152\t240.96\t15.2328\n",
      "6  \t30    \t244\t0  \t234.24\t47.814 \n",
      "7  \t29    \t244\t195\t243.02\t6.86   \n",
      "8  \t22    \t244\t244\t244   \t0      \n",
      "9  \t28    \t269\t244\t244.5 \t3.5    \n",
      "10 \t39    \t269\t0  \t241.12\t35.1059\n",
      "11 \t35    \t269\t0  \t227.54\t69.2991\n",
      "12 \t27    \t269\t0  \t245.14\t63.893 \n",
      "13 \t22    \t269\t0  \t263.62\t37.66  \n",
      "14 \t38    \t269\t269\t269   \t0      \n",
      "15 \t32    \t269\t269\t269   \t0      \n",
      "16 \t28    \t269\t0  \t263.62\t37.66  \n",
      "17 \t30    \t269\t0  \t262.64\t38.1417\n",
      "18 \t24    \t269\t0  \t263.62\t37.66  \n",
      "19 \t23    \t269\t0  \t263.62\t37.66  \n",
      "20 \t27    \t269\t269\t269   \t0      \n",
      "21 \t22    \t269\t269\t269   \t0      \n",
      "22 \t27    \t269\t209\t267.8 \t8.4    \n",
      "23 \t22    \t269\t177\t267.16\t12.88  \n",
      "24 \t23    \t269\t220\t268.02\t6.86   \n",
      "25 \t27    \t269\t220\t268.02\t6.86   \n",
      "26 \t30    \t269\t269\t269   \t0      \n",
      "27 \t27    \t269\t269\t269   \t0      \n",
      "28 \t23    \t269\t201\t267.64\t9.52   \n",
      "29 \t26    \t269\t269\t269   \t0      \n",
      "30 \t31    \t269\t0  \t263.62\t37.66  \n",
      "31 \t20    \t269\t269\t269   \t0      \n",
      "32 \t31    \t269\t0  \t254.7 \t55.0975\n",
      "33 \t26    \t269\t0  \t263.62\t37.66  \n",
      "34 \t25    \t269\t0  \t257.26\t52.9588\n",
      "35 \t28    \t269\t0  \t263.62\t37.66  \n",
      "36 \t33    \t269\t269\t269   \t0      \n",
      "37 \t31    \t269\t0  \t263.62\t37.66  \n",
      "38 \t31    \t269\t269\t269   \t0      \n",
      "39 \t28    \t269\t0  \t263.62\t37.66  \n",
      "40 \t20    \t269\t269\t269   \t0      \n",
      "41 \t26    \t269\t269\t269   \t0      \n",
      "42 \t28    \t269\t0  \t263.62\t37.66  \n",
      "43 \t23    \t269\t269\t269   \t0      \n",
      "44 \t26    \t269\t0  \t263.62\t37.66  \n",
      "45 \t28    \t269\t0  \t263.62\t37.66  \n",
      "46 \t30    \t269\t269\t269   \t0      \n",
      "47 \t20    \t269\t0  \t263.4 \t37.6601\n",
      "48 \t24    \t269\t269\t269   \t0      \n",
      "49 \t23    \t269\t0  \t261.78\t39.5521\n",
      "50 \t33    \t269\t0  \t263.62\t37.66  \n",
      "51 \t26    \t269\t269\t269   \t0      \n",
      "52 \t17    \t269\t0  \t263.62\t37.66  \n",
      "53 \t28    \t269\t0  \t263.62\t37.66  \n",
      "54 \t29    \t269\t220\t267.9 \t6.8942 \n",
      "55 \t17    \t269\t269\t269   \t0      \n",
      "56 \t26    \t269\t177\t267.16\t12.88  \n",
      "57 \t30    \t269\t269\t269   \t0      \n",
      "58 \t25    \t269\t109\t265.8 \t22.4   \n",
      "59 \t19    \t269\t0  \t263.62\t37.66  \n",
      "60 \t31    \t269\t0  \t258.24\t52.713 \n",
      "[1, 0, 1, 1, 1, 0, 0, 0, 0, 0]\n"
     ]
    }
   ],
   "source": [
    "hof = tools.HallOfFame(5)\n",
    "population = toolbox.population(n=50)\n",
    "\n",
    "population, logbook = algorithms.eaSimple(population, toolbox, cxpb=0.5, mutpb=0.05, ngen=60, stats=stats, halloffame=hof)\n",
    "\n",
    "print(hof[0])"
   ]
  }
 ],
 "metadata": {
  "kernelspec": {
   "display_name": "Python 3 (ipykernel)",
   "language": "python",
   "name": "python3"
  },
  "language_info": {
   "codemirror_mode": {
    "name": "ipython",
    "version": 3
   },
   "file_extension": ".py",
   "mimetype": "text/x-python",
   "name": "python",
   "nbconvert_exporter": "python",
   "pygments_lexer": "ipython3",
   "version": "3.11.2"
  }
 },
 "nbformat": 4,
 "nbformat_minor": 5
}
